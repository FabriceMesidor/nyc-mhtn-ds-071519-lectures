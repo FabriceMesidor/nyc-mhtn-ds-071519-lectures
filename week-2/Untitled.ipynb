{
 "cells": [
  {
   "cell_type": "code",
   "execution_count": null,
   "metadata": {},
   "outputs": [],
   "source": [
    "# write a function to parse the API response \n",
    "# so that you can easily insert the data in to the DB\n",
    "\n",
    "def parse_api(data):\n",
    "    parsed_data = []\n",
    "    for i in range(len(data)):\n",
    "        for j in range(50):\n",
    "            parsed_data.append(data[i][j])\n",
    "    return parsed_data\n",
    "\n",
    "parsed_bars = parse_api(all_bars)\n",
    "# len(parsed_bars)\n",
    "# pd.DataFrame(parsed_bars)\n",
    "# 'price' in parsed_bars[0].keys()\n",
    "\n",
    "\n",
    "final_parsed_bars = []\n",
    "for parsed_bar in parsed_bars:\n",
    "    if 'price' in parsed_bar.keys():\n",
    "        final_parsed_bars.append({'bar_id': parsed_bar['id'],'bar_name': parsed_bar['name'],\n",
    "                         'price': parsed_bar['price'],'rating': parsed_bar['rating'],\n",
    "                         'review_count': parsed_bar['review_count']})\n",
    "    else:\n",
    "        final_parsed_bars.append({'bar_id': parsed_bar['id'],'bar_name': parsed_bar['name'],\n",
    "                         'price': \"\",'rating': parsed_bar['rating'],\n",
    "                         'review_count': parsed_bar['review_count']})\n",
    "final_parsed_bars\n",
    "\n",
    "for parsed_bar in final_parsed_bars:\n",
    "    parsed_bar['bar_name'] = parsed_bar['bar_name'].replace(\"'\",\"\\'\")\n",
    "\n",
    "\n"
   ]
  }
 ],
 "metadata": {
  "kernelspec": {
   "display_name": "Python 3",
   "language": "python",
   "name": "python3"
  },
  "language_info": {
   "codemirror_mode": {
    "name": "ipython",
    "version": 3
   },
   "file_extension": ".py",
   "mimetype": "text/x-python",
   "name": "python",
   "nbconvert_exporter": "python",
   "pygments_lexer": "ipython3",
   "version": "3.7.3"
  }
 },
 "nbformat": 4,
 "nbformat_minor": 2
}
