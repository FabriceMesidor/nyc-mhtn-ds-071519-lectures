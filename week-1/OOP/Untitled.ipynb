{
 "cells": [
  {
   "cell_type": "code",
   "execution_count": 35,
   "metadata": {},
   "outputs": [],
   "source": [
    "# Function to add two numbers \n",
    "def add(num1, num2):\n",
    "    #Perform the calculation\n",
    "    return num1 + num2\n",
    "\n",
    "# Function to subtract two numbers \n",
    "def subtract(num1, num2):\n",
    "    #Perform the calculation\n",
    "    return num1 - num2\n",
    "\n",
    "# Function to multiply two numbers\n",
    "def multiply(num1, num2):\n",
    "    #Perform the calculation\n",
    "    return num1 * num2\n",
    "\n",
    "# Function to divide two numbers\n",
    "def divide(num1, num2):\n",
    "    #Perform the calculation\n",
    "    return num1 / num2\n"
   ]
  },
  {
   "cell_type": "code",
   "execution_count": null,
   "metadata": {},
   "outputs": [
    {
     "name": "stdout",
     "output_type": "stream",
     "text": [
      "Please select operation - \n",
      " 1. Add \n",
      " 2. Subtract \n",
      " 3. Multiply \n",
      " 4. Divide \n",
      "\n",
      "Select operation from 1, 2, 3, 4: 1\n",
      "Select first number:2\n",
      "Select second number:4\n",
      "The result of  2 + 4 = 6\n",
      "continue y/n: y\n"
     ]
    }
   ],
   "source": [
    "code = 'y'\n",
    "while code == 'y':\n",
    "    \n",
    "    menu = ('Please select operation - \\n 1. Add \\n 2. Subtract \\n 3. Multiply \\n 4. Divide \\n')\n",
    "    menu += ('\\nSelect operation from 1, 2, 3, 4: ')\n",
    "\n",
    "\n",
    "    choice_number = int(input(menu))\n",
    "\n",
    "    # Take input from the user for operation , followed by numbers. \n",
    "\n",
    "    if isinstance(choice_number, int) and choice_number <=4:\n",
    "\n",
    "        number1 = int(input('Select first number:'))\n",
    "        number2 = int(input('Select second number:'))\n",
    "\n",
    "    # Based on operation, pass the two numbers to respective function\n",
    "        if choice_number == 1:\n",
    "            result = add(number1, number2)\n",
    "            print('The result of ', number1, '+', number2, '=', result)\n",
    "\n",
    "        elif choice_number == 2:\n",
    "            result = subtract(number1, number2)\n",
    "            print('The result of ', number1, '-', number2, '=', result)\n",
    "\n",
    "        elif choice_number == 3:\n",
    "            result = multiply(number1, number2)\n",
    "            print('The result of ', number1, '*', number2, '=', result)\n",
    "\n",
    "        elif choice_number == 4:\n",
    "            result = divide(number1, number2)\n",
    "            print('The result of ', number1, '/', number2, '=', result)\n",
    "\n",
    "        else:\n",
    "            print('Wrong input')\n",
    "\n",
    "\n",
    "    else:\n",
    "        print('Invalid input')\n",
    "\n",
    "\n",
    "    # Print the output in a nice manner\n",
    "    # Print \"Invalid input\" if an unexpected character is seen in input\n",
    "    code = input('continue y/n: ')\n",
    "    \n",
    "\n",
    "# Expected output\n",
    "\n",
    "# Please select operation -\n",
    "# 1. Add\n",
    "# 2. Subtract\n",
    "# 3. Multiply\n",
    "# 4. Divide\n",
    "\n",
    "# Select operations form 1, 2, 3, 4 :1\n",
    "# Enter first number: 2\n",
    "# Enter second number: 3\n",
    "# 2 + 3 = 5 "
   ]
  },
  {
   "cell_type": "code",
   "execution_count": 5,
   "metadata": {},
   "outputs": [
    {
     "data": {
      "text/plain": [
       "5"
      ]
     },
     "execution_count": 5,
     "metadata": {},
     "output_type": "execute_result"
    }
   ],
   "source": [
    "add(2,3)"
   ]
  },
  {
   "cell_type": "code",
   "execution_count": null,
   "metadata": {},
   "outputs": [],
   "source": []
  }
 ],
 "metadata": {
  "kernelspec": {
   "display_name": "Python 3",
   "language": "python",
   "name": "python3"
  },
  "language_info": {
   "codemirror_mode": {
    "name": "ipython",
    "version": 3
   },
   "file_extension": ".py",
   "mimetype": "text/x-python",
   "name": "python",
   "nbconvert_exporter": "python",
   "pygments_lexer": "ipython3",
   "version": "3.7.3"
  }
 },
 "nbformat": 4,
 "nbformat_minor": 2
}
