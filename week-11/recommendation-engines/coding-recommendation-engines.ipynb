{
 "cells": [
  {
   "cell_type": "markdown",
   "metadata": {},
   "source": [
    "# Recommendation Engines: Implementing Surprise\n",
    "- Surprise is a scikit library that stands for **Simple Python RecommendatIon System Engine**\n",
    "- Has built-in similarity metrics, baseline methods, content-based systems, matrix factorization systems\n",
    "\n",
    "In this notebook, we'll first walk through setting up a super basic recommendation system, using the popular MovieLens 100K Dataset. Then, we'll look into more detail how Surprise works.\n",
    "\n",
    "## Fitting and Predicting with Surprise\n",
    "\n",
    "### 1. Install surprise if you haven't, and import the usual libraries."
   ]
  },
  {
   "cell_type": "code",
   "execution_count": 4,
   "metadata": {},
   "outputs": [
    {
     "name": "stdout",
     "output_type": "stream",
     "text": [
      "Collecting package metadata (repodata.json): done\n",
      "Solving environment: done\n",
      "\n",
      "## Package Plan ##\n",
      "\n",
      "  environment location: /Users/fabricemesidor/anaconda3\n",
      "\n",
      "  added / updated specs:\n",
      "    - scikit-surprise\n",
      "\n",
      "\n",
      "The following packages will be downloaded:\n",
      "\n",
      "    package                    |            build\n",
      "    ---------------------------|-----------------\n",
      "    ca-certificates-2019.9.11  |       hecc5488_0         143 KB  conda-forge\n",
      "    certifi-2019.9.11          |           py37_0         147 KB  conda-forge\n",
      "    conda-4.7.12               |           py37_0         3.0 MB  conda-forge\n",
      "    scikit-surprise-1.1.0      |py37heacc8b8_1001         597 KB  conda-forge\n",
      "    ------------------------------------------------------------\n",
      "                                           Total:         3.9 MB\n",
      "\n",
      "The following NEW packages will be INSTALLED:\n",
      "\n",
      "  scikit-surprise    conda-forge/osx-64::scikit-surprise-1.1.0-py37heacc8b8_1001\n",
      "\n",
      "The following packages will be UPDATED:\n",
      "\n",
      "  ca-certificates     anaconda::ca-certificates-2019.5.15-1 --> conda-forge::ca-certificates-2019.9.11-hecc5488_0\n",
      "  certifi                anaconda::certifi-2019.6.16-py37_1 --> conda-forge::certifi-2019.9.11-py37_0\n",
      "  conda                       anaconda::conda-4.7.11-py37_0 --> conda-forge::conda-4.7.12-py37_0\n",
      "\n",
      "The following packages will be SUPERSEDED by a higher-priority channel:\n",
      "\n",
      "  openssl                anaconda::openssl-1.1.1-h1de35cc_0 --> conda-forge::openssl-1.1.1c-h01d97ff_0\n",
      "\n",
      "\n",
      "\n",
      "Downloading and Extracting Packages\n",
      "ca-certificates-2019 | 143 KB    | ##################################### | 100% \n",
      "certifi-2019.9.11    | 147 KB    | ##################################### | 100% \n",
      "conda-4.7.12         | 3.0 MB    | ##################################### | 100% \n",
      "scikit-surprise-1.1. | 597 KB    | ##################################### | 100% \n",
      "Preparing transaction: done\n",
      "Verifying transaction: done\n",
      "Executing transaction: done\n",
      "\n",
      "Note: you may need to restart the kernel to use updated packages.\n"
     ]
    }
   ],
   "source": [
    "conda install -c conda-forge scikit-surprise"
   ]
  },
  {
   "cell_type": "code",
   "execution_count": 28,
   "metadata": {
    "collapsed": true
   },
   "outputs": [
    {
     "name": "stdout",
     "output_type": "stream",
     "text": [
      "Collecting scikit-image\n",
      "\u001b[?25l  Downloading https://files.pythonhosted.org/packages/6f/ee/37254a96f7910f4caa830faad72a2fb144e1cebe62a5abbe50a80e942094/scikit_image-0.15.0-cp37-cp37m-macosx_10_6_intel.macosx_10_9_intel.macosx_10_9_x86_64.macosx_10_10_intel.macosx_10_10_x86_64.whl (30.0MB)\n",
      "\u001b[K     |████████████████████████████████| 30.0MB 3.9MB/s eta 0:00:01\n",
      "\u001b[?25hRequirement already satisfied: matplotlib!=3.0.0,>=2.0.0 in /Users/fabricemesidor/anaconda3/lib/python3.7/site-packages (from scikit-image) (3.1.1)\n",
      "Collecting imageio>=2.0.1 (from scikit-image)\n",
      "\u001b[?25l  Downloading https://files.pythonhosted.org/packages/af/0a/943c965d372dae0b1f1482677d29030ab834351a61a9a632fd62f27f1523/imageio-2.5.0-py3-none-any.whl (3.3MB)\n",
      "\u001b[K     |████████████████████████████████| 3.3MB 705kB/s eta 0:00:01\n",
      "\u001b[?25hRequirement already satisfied: pillow>=4.3.0 in /Users/fabricemesidor/anaconda3/lib/python3.7/site-packages (from scikit-image) (6.1.0)\n",
      "Collecting PyWavelets>=0.4.0 (from scikit-image)\n",
      "\u001b[?25l  Downloading https://files.pythonhosted.org/packages/1e/c5/7267d62da464851bd4b63f0da321acd949421079db341c3d059a31bbcb6a/PyWavelets-1.0.3-cp37-cp37m-macosx_10_6_intel.macosx_10_9_intel.macosx_10_9_x86_64.macosx_10_10_intel.macosx_10_10_x86_64.whl (5.0MB)\n",
      "\u001b[K     |████████████████████████████████| 5.0MB 756kB/s eta 0:00:01\n",
      "\u001b[?25hCollecting networkx>=2.0 (from scikit-image)\n",
      "\u001b[?25l  Downloading https://files.pythonhosted.org/packages/85/08/f20aef11d4c343b557e5de6b9548761811eb16e438cee3d32b1c66c8566b/networkx-2.3.zip (1.7MB)\n",
      "\u001b[K     |████████████████████████████████| 1.8MB 8.3MB/s eta 0:00:01\n",
      "\u001b[?25hRequirement already satisfied: scipy>=0.17.0 in /Users/fabricemesidor/anaconda3/lib/python3.7/site-packages (from scikit-image) (1.3.1)\n",
      "Requirement already satisfied: numpy>=1.11 in /Users/fabricemesidor/anaconda3/lib/python3.7/site-packages (from matplotlib!=3.0.0,>=2.0.0->scikit-image) (1.16.4)\n",
      "Requirement already satisfied: kiwisolver>=1.0.1 in /Users/fabricemesidor/anaconda3/lib/python3.7/site-packages (from matplotlib!=3.0.0,>=2.0.0->scikit-image) (1.1.0)\n",
      "Requirement already satisfied: cycler>=0.10 in /Users/fabricemesidor/anaconda3/lib/python3.7/site-packages (from matplotlib!=3.0.0,>=2.0.0->scikit-image) (0.10.0)\n",
      "Requirement already satisfied: pyparsing!=2.0.4,!=2.1.2,!=2.1.6,>=2.0.1 in /Users/fabricemesidor/anaconda3/lib/python3.7/site-packages (from matplotlib!=3.0.0,>=2.0.0->scikit-image) (2.4.0)\n",
      "Requirement already satisfied: python-dateutil>=2.1 in /Users/fabricemesidor/anaconda3/lib/python3.7/site-packages (from matplotlib!=3.0.0,>=2.0.0->scikit-image) (2.8.0)\n",
      "Requirement already satisfied: decorator>=4.3.0 in /Users/fabricemesidor/anaconda3/lib/python3.7/site-packages (from networkx>=2.0->scikit-image) (4.4.0)\n",
      "Requirement already satisfied: setuptools in /Users/fabricemesidor/anaconda3/lib/python3.7/site-packages (from kiwisolver>=1.0.1->matplotlib!=3.0.0,>=2.0.0->scikit-image) (41.0.1)\n",
      "Requirement already satisfied: six in /Users/fabricemesidor/anaconda3/lib/python3.7/site-packages (from cycler>=0.10->matplotlib!=3.0.0,>=2.0.0->scikit-image) (1.12.0)\n",
      "Building wheels for collected packages: networkx\n",
      "  Building wheel for networkx (setup.py) ... \u001b[?25ldone\n",
      "\u001b[?25h  Created wheel for networkx: filename=networkx-2.3-py2.py3-none-any.whl size=1556409 sha256=6170b1267f027d2a062dbdff1a680db331215c623405a0ea8b69560629747c1b\n",
      "  Stored in directory: /Users/fabricemesidor/Library/Caches/pip/wheels/de/63/64/3699be2a9d0ccdb37c7f16329acf3863fd76eda58c39c737af\n",
      "Successfully built networkx\n",
      "Installing collected packages: imageio, PyWavelets, networkx, scikit-image\n",
      "Successfully installed PyWavelets-1.0.3 imageio-2.5.0 networkx-2.3 scikit-image-0.15.0\n"
     ]
    }
   ],
   "source": [
    "!pip install scikit-image"
   ]
  },
  {
   "cell_type": "code",
   "execution_count": 5,
   "metadata": {},
   "outputs": [
    {
     "name": "stdout",
     "output_type": "stream",
     "text": [
      "Collecting surprise\n",
      "  Using cached https://files.pythonhosted.org/packages/61/de/e5cba8682201fcf9c3719a6fdda95693468ed061945493dea2dd37c5618b/surprise-0.1-py2.py3-none-any.whl\n",
      "Requirement already satisfied: scikit-surprise in /Users/fabricemesidor/anaconda3/lib/python3.7/site-packages (from surprise) (1.1.0)\n",
      "Requirement already satisfied: joblib>=0.11 in /Users/fabricemesidor/anaconda3/lib/python3.7/site-packages (from scikit-surprise->surprise) (0.13.2)\n",
      "Requirement already satisfied: numpy>=1.11.2 in /Users/fabricemesidor/anaconda3/lib/python3.7/site-packages (from scikit-surprise->surprise) (1.16.4)\n",
      "Requirement already satisfied: scipy>=1.0.0 in /Users/fabricemesidor/anaconda3/lib/python3.7/site-packages (from scikit-surprise->surprise) (1.3.1)\n",
      "Requirement already satisfied: six>=1.10.0 in /Users/fabricemesidor/anaconda3/lib/python3.7/site-packages (from scikit-surprise->surprise) (1.12.0)\n",
      "Installing collected packages: surprise\n",
      "Successfully installed surprise-0.1\n"
     ]
    }
   ],
   "source": [
    "!pip install surprise"
   ]
  },
  {
   "cell_type": "code",
   "execution_count": 6,
   "metadata": {},
   "outputs": [],
   "source": [
    "# import libraries\n",
    "import numpy as np\n",
    "import pandas as pd\n",
    "import matplotlib.pyplot as plt\n",
    "\n",
    "from surprise import Dataset, Reader\n",
    "from surprise import SVD\n",
    "from surprise import accuracy\n",
    "from surprise.model_selection import cross_validate, train_test_split"
   ]
  },
  {
   "cell_type": "markdown",
   "metadata": {},
   "source": [
    "### 2. Load in the dataset\n",
    "\n",
    "Surprise has the dataset built in. You might need to download the dataset so follow the instructions in the code output! Unfortunately, the Surprise data format doesn't let us inspect the data, but here is the documentation: https://grouplens.org/datasets/movielens/100k/\n"
   ]
  },
  {
   "cell_type": "code",
   "execution_count": 7,
   "metadata": {},
   "outputs": [
    {
     "name": "stdout",
     "output_type": "stream",
     "text": [
      "Dataset ml-100k could not be found. Do you want to download it? [Y/n] y\n",
      "Trying to download dataset from http://files.grouplens.org/datasets/movielens/ml-100k.zip...\n",
      "Done! Dataset ml-100k has been saved to /Users/fabricemesidor/.surprise_data/ml-100k\n"
     ]
    }
   ],
   "source": [
    "data = Dataset.load_builtin('ml-100k')\n",
    "\n",
    "# train-test split\n",
    "train, test = train_test_split(data, test_size=.2)"
   ]
  },
  {
   "cell_type": "code",
   "execution_count": 8,
   "metadata": {},
   "outputs": [
    {
     "data": {
      "text/plain": [
       "<surprise.trainset.Trainset at 0x119351668>"
      ]
     },
     "execution_count": 8,
     "metadata": {},
     "output_type": "execute_result"
    }
   ],
   "source": [
    "train"
   ]
  },
  {
   "cell_type": "markdown",
   "metadata": {},
   "source": [
    "### 3. Run the default Singular Value Decomposition Model!"
   ]
  },
  {
   "cell_type": "code",
   "execution_count": 9,
   "metadata": {},
   "outputs": [],
   "source": [
    "svd = SVD()\n",
    "svd.fit(train)\n",
    "predictions = svd.test(test)"
   ]
  },
  {
   "cell_type": "code",
   "execution_count": 10,
   "metadata": {},
   "outputs": [
    {
     "name": "stdout",
     "output_type": "stream",
     "text": [
      "RMSE: 0.9353\n"
     ]
    },
    {
     "data": {
      "text/plain": [
       "0.9352721890901369"
      ]
     },
     "execution_count": 10,
     "metadata": {},
     "output_type": "execute_result"
    }
   ],
   "source": [
    "accuracy.rmse(predictions)"
   ]
  },
  {
   "cell_type": "markdown",
   "metadata": {},
   "source": [
    "### 4. Make a prediction!"
   ]
  },
  {
   "cell_type": "code",
   "execution_count": 11,
   "metadata": {},
   "outputs": [
    {
     "name": "stdout",
     "output_type": "stream",
     "text": [
      "user: 196        item: 302        r_ui = 4.00   est = 4.19   {'was_impossible': False}\n"
     ]
    }
   ],
   "source": [
    "uid = str(196)  # raw user id (as in the ratings file). They are **strings**!\n",
    "iid = str(302)\n",
    "\n",
    "# get a prediction for specific users and items.\n",
    "pred = svd.predict(uid, iid, r_ui=4, verbose=True)"
   ]
  },
  {
   "cell_type": "code",
   "execution_count": 15,
   "metadata": {},
   "outputs": [
    {
     "data": {
      "text/plain": [
       "[Prediction(uid='919', iid='243', r_ui=3.0, est=2.2841685011409343, details={'was_impossible': False}),\n",
       " Prediction(uid='95', iid='392', r_ui=3.0, est=3.54034255026012, details={'was_impossible': False}),\n",
       " Prediction(uid='487', iid='399', r_ui=5.0, est=3.380059032891244, details={'was_impossible': False}),\n",
       " Prediction(uid='846', iid='177', r_ui=3.0, est=4.265953250192373, details={'was_impossible': False}),\n",
       " Prediction(uid='270', iid='93', r_ui=5.0, est=4.366370283088892, details={'was_impossible': False})]"
      ]
     },
     "execution_count": 15,
     "metadata": {},
     "output_type": "execute_result"
    }
   ],
   "source": [
    "predictions[:5]"
   ]
  },
  {
   "cell_type": "markdown",
   "metadata": {},
   "source": [
    "## Applying Surprise\n",
    "\n",
    "### 1. How does Surprise take in your data?\n",
    "https://surprise.readthedocs.io/en/stable/getting_started.html#use-a-custom-dataset\n",
    "\n",
    "The dataset we'll use is a subset of the Yelp Open Dataset that's already been joined and cleaned.\n",
    "https://www.yelp.com/dataset"
   ]
  },
  {
   "cell_type": "code",
   "execution_count": 16,
   "metadata": {},
   "outputs": [],
   "source": [
    "yelp = pd.read_csv('yelp_reviews.csv').drop(['Unnamed: 0'], axis = 1)"
   ]
  },
  {
   "cell_type": "code",
   "execution_count": 17,
   "metadata": {
    "scrolled": true
   },
   "outputs": [
    {
     "data": {
      "text/html": [
       "<div>\n",
       "<style scoped>\n",
       "    .dataframe tbody tr th:only-of-type {\n",
       "        vertical-align: middle;\n",
       "    }\n",
       "\n",
       "    .dataframe tbody tr th {\n",
       "        vertical-align: top;\n",
       "    }\n",
       "\n",
       "    .dataframe thead th {\n",
       "        text-align: right;\n",
       "    }\n",
       "</style>\n",
       "<table border=\"1\" class=\"dataframe\">\n",
       "  <thead>\n",
       "    <tr style=\"text-align: right;\">\n",
       "      <th></th>\n",
       "      <th>user_id</th>\n",
       "      <th>business_id</th>\n",
       "      <th>stars</th>\n",
       "    </tr>\n",
       "  </thead>\n",
       "  <tbody>\n",
       "    <tr>\n",
       "      <th>0</th>\n",
       "      <td>brd33PD_6nqK_VVnO3NWAg</td>\n",
       "      <td>--1UhMGODdWsrMastO9DZw</td>\n",
       "      <td>4.0</td>\n",
       "    </tr>\n",
       "    <tr>\n",
       "      <th>1</th>\n",
       "      <td>NqpKiaRsGfuU2voV5dPRCQ</td>\n",
       "      <td>--1UhMGODdWsrMastO9DZw</td>\n",
       "      <td>1.0</td>\n",
       "    </tr>\n",
       "    <tr>\n",
       "      <th>2</th>\n",
       "      <td>dhzlnpisqA7V1zfiO12AZA</td>\n",
       "      <td>--1UhMGODdWsrMastO9DZw</td>\n",
       "      <td>2.0</td>\n",
       "    </tr>\n",
       "    <tr>\n",
       "      <th>3</th>\n",
       "      <td>A4bpHuvzaQt9-XAg8e9Msw</td>\n",
       "      <td>--1UhMGODdWsrMastO9DZw</td>\n",
       "      <td>3.0</td>\n",
       "    </tr>\n",
       "    <tr>\n",
       "      <th>4</th>\n",
       "      <td>GL81ktDIteXA2VVH6gIakg</td>\n",
       "      <td>--1UhMGODdWsrMastO9DZw</td>\n",
       "      <td>5.0</td>\n",
       "    </tr>\n",
       "  </tbody>\n",
       "</table>\n",
       "</div>"
      ],
      "text/plain": [
       "                  user_id             business_id  stars\n",
       "0  brd33PD_6nqK_VVnO3NWAg  --1UhMGODdWsrMastO9DZw    4.0\n",
       "1  NqpKiaRsGfuU2voV5dPRCQ  --1UhMGODdWsrMastO9DZw    1.0\n",
       "2  dhzlnpisqA7V1zfiO12AZA  --1UhMGODdWsrMastO9DZw    2.0\n",
       "3  A4bpHuvzaQt9-XAg8e9Msw  --1UhMGODdWsrMastO9DZw    3.0\n",
       "4  GL81ktDIteXA2VVH6gIakg  --1UhMGODdWsrMastO9DZw    5.0"
      ]
     },
     "execution_count": 17,
     "metadata": {},
     "output_type": "execute_result"
    }
   ],
   "source": [
    "yelp.head()"
   ]
  },
  {
   "cell_type": "markdown",
   "metadata": {},
   "source": [
    "### 2. Inspecting the dataset:\n",
    "\n",
    "Here's where you'd do a **comprehensive** EDA!"
   ]
  },
  {
   "cell_type": "code",
   "execution_count": 18,
   "metadata": {
    "scrolled": true
   },
   "outputs": [
    {
     "name": "stdout",
     "output_type": "stream",
     "text": [
      "Number of Users:  79773\n",
      "Number of Businesses:  2518\n"
     ]
    }
   ],
   "source": [
    "print('Number of Users: ', len(yelp['user_id'].unique()))\n",
    "print('Number of Businesses: ', len(yelp['business_id'].unique()))"
   ]
  },
  {
   "cell_type": "markdown",
   "metadata": {},
   "source": [
    "1. What's the distribution of ratings? i.e. How many 1-star, 2-star, 3-star reviews?\n",
    "2. How many reviews does a restaurant have?\n",
    "3. How many reviews does a user make?"
   ]
  },
  {
   "cell_type": "code",
   "execution_count": 27,
   "metadata": {},
   "outputs": [
    {
     "data": {
      "text/plain": [
       "<matplotlib.axes._subplots.AxesSubplot at 0x1a4519f240>"
      ]
     },
     "execution_count": 27,
     "metadata": {},
     "output_type": "execute_result"
    },
    {
     "data": {
      "image/png": "[encoded data removed]",
      "text/plain": [
       "<Figure size 432x288 with 1 Axes>"
      ]
     },
     "metadata": {
      "needs_background": "light"
     },
     "output_type": "display_data"
    }
   ],
   "source": [
    "yelp.stars.plot(kind='kde',c='r')"
   ]
  },
  {
   "cell_type": "code",
   "execution_count": 25,
   "metadata": {
    "scrolled": false
   },
   "outputs": [
    {
     "data": {
      "text/plain": [
       "<matplotlib.axes._subplots.AxesSubplot at 0x1208ff710>"
      ]
     },
     "execution_count": 25,
     "metadata": {},
     "output_type": "execute_result"
    },
    {
     "data": {
      "image/png": "[encoded data removed]",
      "text/plain": [
       "<Figure size 432x288 with 1 Axes>"
      ]
     },
     "metadata": {
      "needs_background": "light"
     },
     "output_type": "display_data"
    }
   ],
   "source": [
    "yelp.stars.hist()"
   ]
  },
  {
   "cell_type": "code",
   "execution_count": 28,
   "metadata": {},
   "outputs": [
    {
     "data": {
      "text/plain": [
       "5.0    42685\n",
       "4.0    23143\n",
       "1.0    14315\n",
       "3.0    11522\n",
       "2.0     8335\n",
       "Name: stars, dtype: int64"
      ]
     },
     "execution_count": 28,
     "metadata": {},
     "output_type": "execute_result"
    }
   ],
   "source": [
    "yelp['stars'].value_counts()"
   ]
  },
  {
   "cell_type": "code",
   "execution_count": 29,
   "metadata": {},
   "outputs": [
    {
     "data": {
      "text/plain": [
       "-ed0Yc9on37RoIoG2ZgxBA    1694\n",
       "--9e1ONYQuAa-CB_Rrw7Tw    1661\n",
       "-6tvduBzjLI1ISfs3F_qTg    1194\n",
       "-U7tvCtaraTQ9b0zBhpBMA    1180\n",
       "-FLnsWAa4AGEW4NgE8Fqew    1128\n",
       "                          ... \n",
       "-6kNwcnLbsyKGIjFlxMD2g       3\n",
       "-R_u_4Ya8ceUN7qDlvIQTg       3\n",
       "-g4CC11SsaLYeQ5mjRxSfw       3\n",
       "-o8NmDhLfUeBNCABxf6rQQ       3\n",
       "-OHcd6mJL90wiQYE1e3gGg       3\n",
       "Name: business_id, Length: 2518, dtype: int64"
      ]
     },
     "execution_count": 29,
     "metadata": {},
     "output_type": "execute_result"
    }
   ],
   "source": [
    "yelp['business_id'].value_counts()"
   ]
  },
  {
   "cell_type": "code",
   "execution_count": null,
   "metadata": {},
   "outputs": [],
   "source": []
  },
  {
   "cell_type": "markdown",
   "metadata": {},
   "source": [
    "### 3. Reading in the dataset and prepping data"
   ]
  },
  {
   "cell_type": "code",
   "execution_count": 30,
   "metadata": {},
   "outputs": [],
   "source": [
    "# Instantiate a 'Reader' to read in the data so Surprise can use it\n",
    "reader = Reader(rating_scale=(1, 5))\n",
    "\n",
    "# The columns must correspond to user id, item id and ratings (in that order).\n",
    "data = Dataset.load_from_df(yelp[['user_id', 'business_id', 'stars']], reader)"
   ]
  },
  {
   "cell_type": "code",
   "execution_count": 31,
   "metadata": {},
   "outputs": [],
   "source": [
    "trainset, testset = train_test_split(data, test_size=.2)"
   ]
  },
  {
   "cell_type": "code",
   "execution_count": 32,
   "metadata": {},
   "outputs": [
    {
     "data": {
      "text/plain": [
       "<surprise.trainset.Trainset at 0x1a22ba0ef0>"
      ]
     },
     "execution_count": 32,
     "metadata": {},
     "output_type": "execute_result"
    }
   ],
   "source": [
    "trainset"
   ]
  },
  {
   "cell_type": "markdown",
   "metadata": {},
   "source": [
    "### 4. Fitting and evaluating models\n",
    "Here, let's assume that we've tuned all these hyperparameters using GridSearch, and we've arrived at our final model."
   ]
  },
  {
   "cell_type": "code",
   "execution_count": 33,
   "metadata": {},
   "outputs": [],
   "source": [
    "final = SVD(n_epochs=20, n_factors=1, biased=True, \n",
    "              lr_all=0.005, reg_all=0.06)"
   ]
  },
  {
   "cell_type": "code",
   "execution_count": 34,
   "metadata": {},
   "outputs": [
    {
     "data": {
      "text/plain": [
       "<surprise.prediction_algorithms.matrix_factorization.SVD at 0x1196ab4e0>"
      ]
     },
     "execution_count": 34,
     "metadata": {},
     "output_type": "execute_result"
    }
   ],
   "source": [
    "final.fit(trainset)"
   ]
  },
  {
   "cell_type": "code",
   "execution_count": 35,
   "metadata": {},
   "outputs": [],
   "source": [
    "predictions = final.test(testset)"
   ]
  },
  {
   "cell_type": "code",
   "execution_count": 36,
   "metadata": {},
   "outputs": [
    {
     "data": {
      "text/plain": [
       "[Prediction(uid='Z3nwYQzDUimoUl8LNDIxjQ', iid='-3K14kIKBH3gBOLf8-XFsg', r_ui=5.0, est=4.3475151505082845, details={'was_impossible': False}),\n",
       " Prediction(uid='LMfYgsc76My5nLOwVDNMLw', iid='-gRkfQ7CGqz0V3Y1wPeB2w', r_ui=5.0, est=4.031989333832196, details={'was_impossible': False}),\n",
       " Prediction(uid='9OA2XO1ecCjBH4g8kQMRyg', iid='-Eu04UHRqmGGyvYRDY8-tg', r_ui=5.0, est=4.576592735839215, details={'was_impossible': False})]"
      ]
     },
     "execution_count": 36,
     "metadata": {},
     "output_type": "execute_result"
    }
   ],
   "source": [
    "predictions[:3]"
   ]
  },
  {
   "cell_type": "code",
   "execution_count": 37,
   "metadata": {
    "scrolled": true
   },
   "outputs": [
    {
     "name": "stdout",
     "output_type": "stream",
     "text": [
      "RMSE: 1.2954\n",
      "MAE:  1.0548\n"
     ]
    },
    {
     "data": {
      "text/plain": [
       "1.0547625124046602"
      ]
     },
     "execution_count": 37,
     "metadata": {},
     "output_type": "execute_result"
    }
   ],
   "source": [
    "accuracy.rmse(predictions)\n",
    "accuracy.mae(predictions)"
   ]
  },
  {
   "cell_type": "markdown",
   "metadata": {},
   "source": [
    "### 5. Making Predictions (again)\n",
    "Unfortunately, this dataset has a convoluted string as the user/business IDs."
   ]
  },
  {
   "cell_type": "code",
   "execution_count": 38,
   "metadata": {},
   "outputs": [
    {
     "data": {
      "text/plain": [
       "'HPtjvIrhzAUkKsiVkeT4MA'"
      ]
     },
     "execution_count": 38,
     "metadata": {},
     "output_type": "execute_result"
    }
   ],
   "source": [
    "yelp['user_id'][55]"
   ]
  },
  {
   "cell_type": "code",
   "execution_count": 39,
   "metadata": {},
   "outputs": [
    {
     "data": {
      "text/plain": [
       "'--7zmmkVg-IMGaXbuVd0SQ'"
      ]
     },
     "execution_count": 39,
     "metadata": {},
     "output_type": "execute_result"
    }
   ],
   "source": [
    "yelp['business_id'][123]"
   ]
  },
  {
   "cell_type": "code",
   "execution_count": 40,
   "metadata": {
    "scrolled": true
   },
   "outputs": [
    {
     "data": {
      "text/plain": [
       "Prediction(uid='HPtjvIrhzAUkKsiVkeT4MA', iid='--1UhMGODdWsrMastO9DZw', r_ui=None, est=3.760676640066666, details={'was_impossible': False})"
      ]
     },
     "execution_count": 40,
     "metadata": {},
     "output_type": "execute_result"
    }
   ],
   "source": [
    "final.predict(yelp['user_id'][55], yelp['business_id'][13])"
   ]
  },
  {
   "cell_type": "markdown",
   "metadata": {},
   "source": [
    "### 6. What else?\n",
    "\n",
    "Surprise has sample code where you can get the top **n** recommended items for a user. https://surprise.readthedocs.io/en/stable/FAQ.html"
   ]
  },
  {
   "cell_type": "markdown",
   "metadata": {},
   "source": [
    "# Resources"
   ]
  },
  {
   "cell_type": "markdown",
   "metadata": {},
   "source": [
    "- The structure of our lesson on recommendation engines is based on Chapter 9 of **Mining of Massive Datasets**: http://infolab.stanford.edu/~ullman/mmds/book.pdf\n",
    "- Libraries for coding recommendation engines: \n",
    "    - Surprise: https://surprise.readthedocs.io/en/stable/index.html\n",
    "    - LightFM: https://lyst.github.io/lightfm/docs/index.html\n",
    "    \n",
    "    \n",
    "- Some blogs I might've written:\n",
    "    - Overview: https://towardsdatascience.com/a-primer-to-recommendation-engines-49bd12ed849f?source=friends_link&sk=279dfeec5187614b37431dab167fd4e3\n",
    "    - Collaborative filtering: https://towardsdatascience.com/a-primer-to-recommendation-engines-49bd12ed849f?source=friends_link&sk=279dfeec5187614b37431dab167fd4e3"
   ]
  }
 ],
 "metadata": {
  "kernelspec": {
   "display_name": "Python 3",
   "language": "python",
   "name": "python3"
  },
  "language_info": {
   "codemirror_mode": {
    "name": "ipython",
    "version": 3
   },
   "file_extension": ".py",
   "mimetype": "text/x-python",
   "name": "python",
   "nbconvert_exporter": "python",
   "pygments_lexer": "ipython3",
   "version": "3.7.3"
  },
  "toc": {
   "base_numbering": 1,
   "nav_menu": {},
   "number_sections": false,
   "sideBar": true,
   "skip_h1_title": false,
   "title_cell": "Table of Contents",
   "title_sidebar": "Contents",
   "toc_cell": false,
   "toc_position": {},
   "toc_section_display": true,
   "toc_window_display": false
  }
 },
 "nbformat": 4,
 "nbformat_minor": 2
}
