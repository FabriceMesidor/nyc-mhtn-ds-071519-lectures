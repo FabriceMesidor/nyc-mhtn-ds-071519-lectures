{
 "cells": [
  {
   "cell_type": "code",
   "execution_count": 1,
   "metadata": {},
   "outputs": [
    {
     "name": "stdout",
     "output_type": "stream",
     "text": [
      "Collecting jupyterthemes\n",
      "\u001b[?25l  Downloading https://files.pythonhosted.org/packages/8a/08/9dee6dfd7f2aad6c30282d55c8f495b4dc1e4747b4e2bdbeb80572ddf312/jupyterthemes-0.20.0-py2.py3-none-any.whl (7.0MB)\n",
      "\u001b[K     |████████████████████████████████| 7.0MB 1.1MB/s eta 0:00:01\n",
      "\u001b[?25hRequirement already satisfied: jupyter-core in /Users/fabricemesidor/anaconda3/lib/python3.7/site-packages (from jupyterthemes) (4.5.0)\n",
      "Requirement already satisfied: notebook>=5.6.0 in /Users/fabricemesidor/anaconda3/lib/python3.7/site-packages (from jupyterthemes) (5.7.8)\n",
      "Requirement already satisfied: matplotlib>=1.4.3 in /Users/fabricemesidor/anaconda3/lib/python3.7/site-packages (from jupyterthemes) (3.1.1)\n",
      "Requirement already satisfied: ipython>=5.4.1 in /Users/fabricemesidor/anaconda3/lib/python3.7/site-packages (from jupyterthemes) (7.6.1)\n",
      "Collecting lesscpy>=0.11.2 (from jupyterthemes)\n",
      "\u001b[?25l  Downloading https://files.pythonhosted.org/packages/10/d0/fdd9874972e07ae8727a3d26b433891d8605b96999ea99bbf506e756a7b1/lesscpy-0.13.0-py2.py3-none-any.whl (48kB)\n",
      "\u001b[K     |████████████████████████████████| 51kB 25.0MB/s eta 0:00:01\n",
      "\u001b[?25hRequirement already satisfied: traitlets in /Users/fabricemesidor/anaconda3/lib/python3.7/site-packages (from jupyter-core->jupyterthemes) (4.3.2)\n",
      "Requirement already satisfied: nbformat in /Users/fabricemesidor/anaconda3/lib/python3.7/site-packages (from notebook>=5.6.0->jupyterthemes) (4.4.0)\n",
      "Requirement already satisfied: jupyter-client>=5.2.0 in /Users/fabricemesidor/anaconda3/lib/python3.7/site-packages (from notebook>=5.6.0->jupyterthemes) (5.3.1)\n",
      "Requirement already satisfied: ipykernel in /Users/fabricemesidor/anaconda3/lib/python3.7/site-packages (from notebook>=5.6.0->jupyterthemes) (5.1.1)\n",
      "Requirement already satisfied: Send2Trash in /Users/fabricemesidor/anaconda3/lib/python3.7/site-packages (from notebook>=5.6.0->jupyterthemes) (1.5.0)\n",
      "Requirement already satisfied: tornado<7,>=4.1 in /Users/fabricemesidor/anaconda3/lib/python3.7/site-packages (from notebook>=5.6.0->jupyterthemes) (6.0.3)\n",
      "Requirement already satisfied: pyzmq>=17 in /Users/fabricemesidor/anaconda3/lib/python3.7/site-packages (from notebook>=5.6.0->jupyterthemes) (18.0.0)\n",
      "Requirement already satisfied: nbconvert in /Users/fabricemesidor/anaconda3/lib/python3.7/site-packages (from notebook>=5.6.0->jupyterthemes) (5.5.0)\n",
      "Requirement already satisfied: jinja2 in /Users/fabricemesidor/anaconda3/lib/python3.7/site-packages (from notebook>=5.6.0->jupyterthemes) (2.10.1)\n",
      "Requirement already satisfied: terminado>=0.8.1 in /Users/fabricemesidor/anaconda3/lib/python3.7/site-packages (from notebook>=5.6.0->jupyterthemes) (0.8.2)\n",
      "Requirement already satisfied: prometheus-client in /Users/fabricemesidor/anaconda3/lib/python3.7/site-packages (from notebook>=5.6.0->jupyterthemes) (0.7.1)\n",
      "Requirement already satisfied: ipython-genutils in /Users/fabricemesidor/anaconda3/lib/python3.7/site-packages (from notebook>=5.6.0->jupyterthemes) (0.2.0)\n",
      "Requirement already satisfied: numpy>=1.11 in /Users/fabricemesidor/anaconda3/lib/python3.7/site-packages (from matplotlib>=1.4.3->jupyterthemes) (1.16.4)\n",
      "Requirement already satisfied: pyparsing!=2.0.4,!=2.1.2,!=2.1.6,>=2.0.1 in /Users/fabricemesidor/anaconda3/lib/python3.7/site-packages (from matplotlib>=1.4.3->jupyterthemes) (2.4.0)\n",
      "Requirement already satisfied: python-dateutil>=2.1 in /Users/fabricemesidor/anaconda3/lib/python3.7/site-packages (from matplotlib>=1.4.3->jupyterthemes) (2.8.0)\n",
      "Requirement already satisfied: cycler>=0.10 in /Users/fabricemesidor/anaconda3/lib/python3.7/site-packages (from matplotlib>=1.4.3->jupyterthemes) (0.10.0)\n",
      "Requirement already satisfied: kiwisolver>=1.0.1 in /Users/fabricemesidor/anaconda3/lib/python3.7/site-packages (from matplotlib>=1.4.3->jupyterthemes) (1.1.0)\n",
      "Requirement already satisfied: prompt-toolkit<2.1.0,>=2.0.0 in /Users/fabricemesidor/anaconda3/lib/python3.7/site-packages (from ipython>=5.4.1->jupyterthemes) (2.0.9)\n",
      "Requirement already satisfied: pickleshare in /Users/fabricemesidor/anaconda3/lib/python3.7/site-packages (from ipython>=5.4.1->jupyterthemes) (0.7.5)\n",
      "Requirement already satisfied: appnope; sys_platform == \"darwin\" in /Users/fabricemesidor/anaconda3/lib/python3.7/site-packages (from ipython>=5.4.1->jupyterthemes) (0.1.0)\n",
      "Requirement already satisfied: jedi>=0.10 in /Users/fabricemesidor/anaconda3/lib/python3.7/site-packages (from ipython>=5.4.1->jupyterthemes) (0.13.3)\n",
      "Requirement already satisfied: decorator in /Users/fabricemesidor/anaconda3/lib/python3.7/site-packages (from ipython>=5.4.1->jupyterthemes) (4.4.0)\n",
      "Requirement already satisfied: setuptools>=18.5 in /Users/fabricemesidor/anaconda3/lib/python3.7/site-packages (from ipython>=5.4.1->jupyterthemes) (41.0.1)\n",
      "Requirement already satisfied: pygments in /Users/fabricemesidor/anaconda3/lib/python3.7/site-packages (from ipython>=5.4.1->jupyterthemes) (2.4.2)\n",
      "Requirement already satisfied: pexpect; sys_platform != \"win32\" in /Users/fabricemesidor/anaconda3/lib/python3.7/site-packages (from ipython>=5.4.1->jupyterthemes) (4.7.0)\n",
      "Requirement already satisfied: backcall in /Users/fabricemesidor/anaconda3/lib/python3.7/site-packages (from ipython>=5.4.1->jupyterthemes) (0.1.0)\n",
      "Requirement already satisfied: six in /Users/fabricemesidor/anaconda3/lib/python3.7/site-packages (from lesscpy>=0.11.2->jupyterthemes) (1.12.0)\n",
      "Collecting ply (from lesscpy>=0.11.2->jupyterthemes)\n",
      "\u001b[?25l  Downloading https://files.pythonhosted.org/packages/a3/58/35da89ee790598a0700ea49b2a66594140f44dec458c07e8e3d4979137fc/ply-3.11-py2.py3-none-any.whl (49kB)\n",
      "\u001b[K     |████████████████████████████████| 51kB 3.8MB/s eta 0:00:011\n",
      "\u001b[?25hRequirement already satisfied: jsonschema!=2.5.0,>=2.4 in /Users/fabricemesidor/anaconda3/lib/python3.7/site-packages (from nbformat->notebook>=5.6.0->jupyterthemes) (3.0.1)\n",
      "Requirement already satisfied: bleach in /Users/fabricemesidor/anaconda3/lib/python3.7/site-packages (from nbconvert->notebook>=5.6.0->jupyterthemes) (3.1.0)\n",
      "Requirement already satisfied: pandocfilters>=1.4.1 in /Users/fabricemesidor/anaconda3/lib/python3.7/site-packages (from nbconvert->notebook>=5.6.0->jupyterthemes) (1.4.2)\n",
      "Requirement already satisfied: defusedxml in /Users/fabricemesidor/anaconda3/lib/python3.7/site-packages (from nbconvert->notebook>=5.6.0->jupyterthemes) (0.6.0)\n",
      "Requirement already satisfied: testpath in /Users/fabricemesidor/anaconda3/lib/python3.7/site-packages (from nbconvert->notebook>=5.6.0->jupyterthemes) (0.4.2)\n",
      "Requirement already satisfied: entrypoints>=0.2.2 in /Users/fabricemesidor/anaconda3/lib/python3.7/site-packages (from nbconvert->notebook>=5.6.0->jupyterthemes) (0.3)\n",
      "Requirement already satisfied: mistune>=0.8.1 in /Users/fabricemesidor/anaconda3/lib/python3.7/site-packages (from nbconvert->notebook>=5.6.0->jupyterthemes) (0.8.4)\n",
      "Requirement already satisfied: MarkupSafe>=0.23 in /Users/fabricemesidor/anaconda3/lib/python3.7/site-packages (from jinja2->notebook>=5.6.0->jupyterthemes) (1.1.1)\n",
      "Requirement already satisfied: wcwidth in /Users/fabricemesidor/anaconda3/lib/python3.7/site-packages (from prompt-toolkit<2.1.0,>=2.0.0->ipython>=5.4.1->jupyterthemes) (0.1.7)\n",
      "Requirement already satisfied: parso>=0.3.0 in /Users/fabricemesidor/anaconda3/lib/python3.7/site-packages (from jedi>=0.10->ipython>=5.4.1->jupyterthemes) (0.5.0)\n",
      "Requirement already satisfied: ptyprocess>=0.5 in /Users/fabricemesidor/anaconda3/lib/python3.7/site-packages (from pexpect; sys_platform != \"win32\"->ipython>=5.4.1->jupyterthemes) (0.6.0)\n",
      "Requirement already satisfied: attrs>=17.4.0 in /Users/fabricemesidor/anaconda3/lib/python3.7/site-packages (from jsonschema!=2.5.0,>=2.4->nbformat->notebook>=5.6.0->jupyterthemes) (19.1.0)\n",
      "Requirement already satisfied: pyrsistent>=0.14.0 in /Users/fabricemesidor/anaconda3/lib/python3.7/site-packages (from jsonschema!=2.5.0,>=2.4->nbformat->notebook>=5.6.0->jupyterthemes) (0.14.11)\n",
      "Requirement already satisfied: webencodings in /Users/fabricemesidor/anaconda3/lib/python3.7/site-packages (from bleach->nbconvert->notebook>=5.6.0->jupyterthemes) (0.5.1)\n",
      "Installing collected packages: ply, lesscpy, jupyterthemes\n",
      "Successfully installed jupyterthemes-0.20.0 lesscpy-0.13.0 ply-3.11\n",
      "Note: you may need to restart the kernel to use updated packages.\n"
     ]
    }
   ],
   "source": [
    "pip install jupyterthemes"
   ]
  },
  {
   "cell_type": "code",
   "execution_count": 5,
   "metadata": {},
   "outputs": [
    {
     "name": "stdout",
     "output_type": "stream",
     "text": [
      "Available Themes: \r\n",
      "   chesterish\r\n",
      "   grade3\r\n",
      "   gruvboxd\r\n",
      "   gruvboxl\r\n",
      "   monokai\r\n",
      "   oceans16\r\n",
      "   onedork\r\n",
      "   solarizedd\r\n",
      "   solarizedl\r\n"
     ]
    }
   ],
   "source": [
    "!jt -l"
   ]
  },
  {
   "cell_type": "code",
   "execution_count": 7,
   "metadata": {},
   "outputs": [],
   "source": [
    "#choose the one you want\n",
    "!jt -t onedork"
   ]
  },
  {
   "cell_type": "code",
   "execution_count": 3,
   "metadata": {},
   "outputs": [
    {
     "name": "stdout",
     "output_type": "stream",
     "text": [
      "WARNING conda.base.context:use_only_tar_bz2(632): Conda is constrained to only using the old .tar.bz2 file format because you have conda-build installed, and it is <3.18.3.  Update or remove conda-build to get smaller downloads and faster extractions.\n",
      "Collecting package metadata (repodata.json): done\n",
      "Solving environment: done\n",
      "\n",
      "\n",
      "==> WARNING: A newer version of conda exists. <==\n",
      "  current version: 4.7.5\n",
      "  latest version: 4.7.11\n",
      "\n",
      "Please update conda by running\n",
      "\n",
      "    $ conda update -n base -c defaults conda\n",
      "\n",
      "\n",
      "\n",
      "## Package Plan ##\n",
      "\n",
      "  environment location: /Users/fabricemesidor/anaconda3\n",
      "\n",
      "  added / updated specs:\n",
      "    - jupyter_nbextensions_configurator\n",
      "\n",
      "\n",
      "The following packages will be downloaded:\n",
      "\n",
      "    package                    |            build\n",
      "    ---------------------------|-----------------\n",
      "    ca-certificates-2019.6.16  |       hecc5488_0         145 KB  conda-forge\n",
      "    certifi-2019.6.16          |           py37_1         149 KB  conda-forge\n",
      "    conda-4.7.11               |           py37_0         3.0 MB  conda-forge\n",
      "    jupyter_contrib_core-0.3.3 |             py_2          15 KB  conda-forge\n",
      "    jupyter_nbextensions_configurator-0.4.1|           py37_0         468 KB  conda-forge\n",
      "    openssl-1.1.1c             |       h01d97ff_0         1.9 MB  conda-forge\n",
      "    ------------------------------------------------------------\n",
      "                                           Total:         5.6 MB\n",
      "\n",
      "The following NEW packages will be INSTALLED:\n",
      "\n",
      "  jupyter_contrib_c~ conda-forge/noarch::jupyter_contrib_core-0.3.3-py_2\n",
      "  jupyter_nbextensi~ conda-forge/osx-64::jupyter_nbextensions_configurator-0.4.1-py37_0\n",
      "\n",
      "The following packages will be UPDATED:\n",
      "\n",
      "  ca-certificates    pkgs/main::ca-certificates-2019.5.15-0 --> conda-forge::ca-certificates-2019.6.16-hecc5488_0\n",
      "  certifi               pkgs/main::certifi-2019.6.16-py37_0 --> conda-forge::certifi-2019.6.16-py37_1\n",
      "  conda                       pkgs/main::conda-4.7.5-py37_0 --> conda-forge::conda-4.7.11-py37_0\n",
      "\n",
      "The following packages will be SUPERSEDED by a higher-priority channel:\n",
      "\n",
      "  openssl              pkgs/main::openssl-1.1.1c-h1de35cc_1 --> conda-forge::openssl-1.1.1c-h01d97ff_0\n",
      "\n",
      "\n",
      "\n",
      "Downloading and Extracting Packages\n",
      "certifi-2019.6.16    | 149 KB    | ##################################### | 100% \n",
      "openssl-1.1.1c       | 1.9 MB    | ##################################### | 100% \n",
      "conda-4.7.11         | 3.0 MB    | ##################################### | 100% \n",
      "ca-certificates-2019 | 145 KB    | ##################################### | 100% \n",
      "jupyter_contrib_core | 15 KB     | ##################################### | 100% \n",
      "jupyter_nbextensions | 468 KB    | ##################################### | 100% \n",
      "Preparing transaction: done\n",
      "Verifying transaction: done\n",
      "Executing transaction: / b'Enabling: jupyter_nbextensions_configurator\\n- Writing config: /Users/fabricemesidor/anaconda3/etc/jupyter\\n    - Validating...\\n      jupyter_nbextensions_configurator 0.4.1 \\x1b[32mOK\\x1b[0m\\nEnabling notebook nbextension nbextensions_configurator/config_menu/main...\\nEnabling tree nbextension nbextensions_configurator/tree_tab/main...\\n'\n",
      "done\n",
      "\n",
      "Note: you may need to restart the kernel to use updated packages.\n"
     ]
    }
   ],
   "source": [
    "conda install -c conda-forge jupyter_nbextensions_configurator"
   ]
  },
  {
   "cell_type": "code",
   "execution_count": 9,
   "metadata": {},
   "outputs": [
    {
     "name": "stdout",
     "output_type": "stream",
     "text": [
      "Reset css and font defaults in:\r\n",
      "/Users/fabricemesidor/.jupyter/custom &\r\n",
      "/Users/fabricemesidor/Library/Jupyter/nbextensions\r\n"
     ]
    }
   ],
   "source": [
    "!jt -r"
   ]
  },
  {
   "cell_type": "code",
   "execution_count": null,
   "metadata": {},
   "outputs": [],
   "source": []
  }
 ],
 "metadata": {
  "kernelspec": {
   "display_name": "Python 3",
   "language": "python",
   "name": "python3"
  },
  "language_info": {
   "codemirror_mode": {
    "name": "ipython",
    "version": 3
   },
   "file_extension": ".py",
   "mimetype": "text/x-python",
   "name": "python",
   "nbconvert_exporter": "python",
   "pygments_lexer": "ipython3",
   "version": "3.7.3"
  }
 },
 "nbformat": 4,
 "nbformat_minor": 2
}
